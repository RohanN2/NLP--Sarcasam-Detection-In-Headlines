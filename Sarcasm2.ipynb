{
 "cells": [
  {
   "cell_type": "code",
   "execution_count": 1,
   "id": "better-charleston",
   "metadata": {
    "id": "better-charleston"
   },
   "outputs": [],
   "source": [
    "import pandas as pd \n",
    "import pandas as pd \n",
    "import matplotlib.pyplot as plt\n",
    "import seaborn as sns"
   ]
  },
  {
   "cell_type": "markdown",
   "id": "built-mistress",
   "metadata": {},
   "source": [
    "####  Importing DataSet"
   ]
  },
  {
   "cell_type": "code",
   "execution_count": 2,
   "id": "normal-marshall",
   "metadata": {
    "id": "normal-marshall"
   },
   "outputs": [],
   "source": [
    "df=pd.read_json(\"Sarcasm_Headlines_Dataset (1).json\", lines=True )"
   ]
  },
  {
   "cell_type": "code",
   "execution_count": 3,
   "id": "demographic-wallet",
   "metadata": {
    "colab": {
     "base_uri": "https://localhost:8080/",
     "height": 205
    },
    "id": "demographic-wallet",
    "outputId": "541b0c52-52c0-4776-fc4f-40d30be38e0e"
   },
   "outputs": [
    {
     "data": {
      "text/html": [
       "<div>\n",
       "<style scoped>\n",
       "    .dataframe tbody tr th:only-of-type {\n",
       "        vertical-align: middle;\n",
       "    }\n",
       "\n",
       "    .dataframe tbody tr th {\n",
       "        vertical-align: top;\n",
       "    }\n",
       "\n",
       "    .dataframe thead th {\n",
       "        text-align: right;\n",
       "    }\n",
       "</style>\n",
       "<table border=\"1\" class=\"dataframe\">\n",
       "  <thead>\n",
       "    <tr style=\"text-align: right;\">\n",
       "      <th></th>\n",
       "      <th>is_sarcastic</th>\n",
       "      <th>headline</th>\n",
       "      <th>article_link</th>\n",
       "    </tr>\n",
       "  </thead>\n",
       "  <tbody>\n",
       "    <tr>\n",
       "      <th>0</th>\n",
       "      <td>1</td>\n",
       "      <td>thirtysomething scientists unveil doomsday clo...</td>\n",
       "      <td>https://www.theonion.com/thirtysomething-scien...</td>\n",
       "    </tr>\n",
       "    <tr>\n",
       "      <th>1</th>\n",
       "      <td>0</td>\n",
       "      <td>dem rep. totally nails why congress is falling...</td>\n",
       "      <td>https://www.huffingtonpost.com/entry/donna-edw...</td>\n",
       "    </tr>\n",
       "    <tr>\n",
       "      <th>2</th>\n",
       "      <td>0</td>\n",
       "      <td>eat your veggies: 9 deliciously different recipes</td>\n",
       "      <td>https://www.huffingtonpost.com/entry/eat-your-...</td>\n",
       "    </tr>\n",
       "    <tr>\n",
       "      <th>3</th>\n",
       "      <td>1</td>\n",
       "      <td>inclement weather prevents liar from getting t...</td>\n",
       "      <td>https://local.theonion.com/inclement-weather-p...</td>\n",
       "    </tr>\n",
       "    <tr>\n",
       "      <th>4</th>\n",
       "      <td>1</td>\n",
       "      <td>mother comes pretty close to using word 'strea...</td>\n",
       "      <td>https://www.theonion.com/mother-comes-pretty-c...</td>\n",
       "    </tr>\n",
       "  </tbody>\n",
       "</table>\n",
       "</div>"
      ],
      "text/plain": [
       "   is_sarcastic                                           headline  \\\n",
       "0             1  thirtysomething scientists unveil doomsday clo...   \n",
       "1             0  dem rep. totally nails why congress is falling...   \n",
       "2             0  eat your veggies: 9 deliciously different recipes   \n",
       "3             1  inclement weather prevents liar from getting t...   \n",
       "4             1  mother comes pretty close to using word 'strea...   \n",
       "\n",
       "                                        article_link  \n",
       "0  https://www.theonion.com/thirtysomething-scien...  \n",
       "1  https://www.huffingtonpost.com/entry/donna-edw...  \n",
       "2  https://www.huffingtonpost.com/entry/eat-your-...  \n",
       "3  https://local.theonion.com/inclement-weather-p...  \n",
       "4  https://www.theonion.com/mother-comes-pretty-c...  "
      ]
     },
     "execution_count": 3,
     "metadata": {},
     "output_type": "execute_result"
    }
   ],
   "source": [
    "df.head()"
   ]
  },
  {
   "cell_type": "code",
   "execution_count": 4,
   "id": "democratic-prophet",
   "metadata": {
    "colab": {
     "base_uri": "https://localhost:8080/"
    },
    "id": "democratic-prophet",
    "outputId": "9809aa7b-d81f-4004-b48d-7cdf97960a2f"
   },
   "outputs": [
    {
     "name": "stdout",
     "output_type": "stream",
     "text": [
      "<class 'pandas.core.frame.DataFrame'>\n",
      "RangeIndex: 28619 entries, 0 to 28618\n",
      "Data columns (total 3 columns):\n",
      " #   Column        Non-Null Count  Dtype \n",
      "---  ------        --------------  ----- \n",
      " 0   is_sarcastic  28619 non-null  int64 \n",
      " 1   headline      28619 non-null  object\n",
      " 2   article_link  28619 non-null  object\n",
      "dtypes: int64(1), object(2)\n",
      "memory usage: 670.9+ KB\n"
     ]
    }
   ],
   "source": [
    "df.info()"
   ]
  },
  {
   "cell_type": "code",
   "execution_count": 5,
   "id": "backed-thought",
   "metadata": {
    "colab": {
     "base_uri": "https://localhost:8080/"
    },
    "id": "backed-thought",
    "outputId": "52c338c2-e84b-4ad8-d867-3bd460ec48bf"
   },
   "outputs": [
    {
     "data": {
      "text/plain": [
       "array([1, 0], dtype=int64)"
      ]
     },
     "execution_count": 5,
     "metadata": {},
     "output_type": "execute_result"
    }
   ],
   "source": [
    "df.is_sarcastic.unique()"
   ]
  },
  {
   "cell_type": "code",
   "execution_count": 6,
   "id": "primary-light",
   "metadata": {
    "colab": {
     "base_uri": "https://localhost:8080/"
    },
    "id": "primary-light",
    "outputId": "f97f06fa-8bba-4231-d541-10236ece9e89"
   },
   "outputs": [
    {
     "data": {
      "text/plain": [
       "is_sarcastic     int64\n",
       "headline        object\n",
       "article_link    object\n",
       "dtype: object"
      ]
     },
     "execution_count": 6,
     "metadata": {},
     "output_type": "execute_result"
    }
   ],
   "source": [
    "df.dtypes"
   ]
  },
  {
   "cell_type": "markdown",
   "id": "handled-suite",
   "metadata": {},
   "source": [
    "Checking For the null values in dataset"
   ]
  },
  {
   "cell_type": "code",
   "execution_count": 7,
   "id": "stopped-lambda",
   "metadata": {
    "colab": {
     "base_uri": "https://localhost:8080/"
    },
    "id": "stopped-lambda",
    "outputId": "55b8b4bf-b2e1-4190-822b-7ccb3a3f1459"
   },
   "outputs": [
    {
     "data": {
      "text/plain": [
       "is_sarcastic    0\n",
       "headline        0\n",
       "article_link    0\n",
       "dtype: int64"
      ]
     },
     "execution_count": 7,
     "metadata": {},
     "output_type": "execute_result"
    }
   ],
   "source": [
    "df.isna().sum()"
   ]
  },
  {
   "cell_type": "code",
   "execution_count": 8,
   "id": "prescription-mystery",
   "metadata": {
    "colab": {
     "base_uri": "https://localhost:8080/",
     "height": 299
    },
    "id": "prescription-mystery",
    "outputId": "3ada89da-d799-479e-fdf0-836c077b2a92"
   },
   "outputs": [
    {
     "data": {
      "text/html": [
       "<div>\n",
       "<style scoped>\n",
       "    .dataframe tbody tr th:only-of-type {\n",
       "        vertical-align: middle;\n",
       "    }\n",
       "\n",
       "    .dataframe tbody tr th {\n",
       "        vertical-align: top;\n",
       "    }\n",
       "\n",
       "    .dataframe thead th {\n",
       "        text-align: right;\n",
       "    }\n",
       "</style>\n",
       "<table border=\"1\" class=\"dataframe\">\n",
       "  <thead>\n",
       "    <tr style=\"text-align: right;\">\n",
       "      <th></th>\n",
       "      <th>is_sarcastic</th>\n",
       "    </tr>\n",
       "  </thead>\n",
       "  <tbody>\n",
       "    <tr>\n",
       "      <th>count</th>\n",
       "      <td>28619.000000</td>\n",
       "    </tr>\n",
       "    <tr>\n",
       "      <th>mean</th>\n",
       "      <td>0.476397</td>\n",
       "    </tr>\n",
       "    <tr>\n",
       "      <th>std</th>\n",
       "      <td>0.499451</td>\n",
       "    </tr>\n",
       "    <tr>\n",
       "      <th>min</th>\n",
       "      <td>0.000000</td>\n",
       "    </tr>\n",
       "    <tr>\n",
       "      <th>25%</th>\n",
       "      <td>0.000000</td>\n",
       "    </tr>\n",
       "    <tr>\n",
       "      <th>50%</th>\n",
       "      <td>0.000000</td>\n",
       "    </tr>\n",
       "    <tr>\n",
       "      <th>75%</th>\n",
       "      <td>1.000000</td>\n",
       "    </tr>\n",
       "    <tr>\n",
       "      <th>max</th>\n",
       "      <td>1.000000</td>\n",
       "    </tr>\n",
       "  </tbody>\n",
       "</table>\n",
       "</div>"
      ],
      "text/plain": [
       "       is_sarcastic\n",
       "count  28619.000000\n",
       "mean       0.476397\n",
       "std        0.499451\n",
       "min        0.000000\n",
       "25%        0.000000\n",
       "50%        0.000000\n",
       "75%        1.000000\n",
       "max        1.000000"
      ]
     },
     "execution_count": 8,
     "metadata": {},
     "output_type": "execute_result"
    }
   ],
   "source": [
    "df.describe()"
   ]
  },
  {
   "cell_type": "markdown",
   "id": "supreme-gilbert",
   "metadata": {},
   "source": [
    "##### Performing feature engineering to draw out new column 'Source' from existing column 'article_link'"
   ]
  },
  {
   "cell_type": "code",
   "execution_count": 9,
   "id": "banner-helena",
   "metadata": {
    "colab": {
     "base_uri": "https://localhost:8080/"
    },
    "id": "neutral-cooper",
    "outputId": "46b6abeb-0afc-4f18-9353-fad6362b3cc9"
   },
   "outputs": [
    {
     "data": {
      "text/plain": [
       "(28619, 3)"
      ]
     },
     "execution_count": 9,
     "metadata": {},
     "output_type": "execute_result"
    }
   ],
   "source": [
    "df['source'] = df.article_link.apply(lambda x: x.split('.')[1])\n",
    "df = df.drop('article_link', axis=1)\n",
    "df.shape"
   ]
  },
  {
   "cell_type": "code",
   "execution_count": 10,
   "id": "interim-boring",
   "metadata": {
    "colab": {
     "base_uri": "https://localhost:8080/",
     "height": 112
    },
    "id": "interim-boring",
    "outputId": "902c4c29-fa35-426c-833d-1a17479d4c35"
   },
   "outputs": [
    {
     "data": {
      "text/html": [
       "<div>\n",
       "<style scoped>\n",
       "    .dataframe tbody tr th:only-of-type {\n",
       "        vertical-align: middle;\n",
       "    }\n",
       "\n",
       "    .dataframe tbody tr th {\n",
       "        vertical-align: top;\n",
       "    }\n",
       "\n",
       "    .dataframe thead th {\n",
       "        text-align: right;\n",
       "    }\n",
       "</style>\n",
       "<table border=\"1\" class=\"dataframe\">\n",
       "  <thead>\n",
       "    <tr style=\"text-align: right;\">\n",
       "      <th></th>\n",
       "      <th>is_sarcastic</th>\n",
       "      <th>headline</th>\n",
       "      <th>source</th>\n",
       "    </tr>\n",
       "  </thead>\n",
       "  <tbody>\n",
       "    <tr>\n",
       "      <th>0</th>\n",
       "      <td>1</td>\n",
       "      <td>thirtysomething scientists unveil doomsday clo...</td>\n",
       "      <td>theonion</td>\n",
       "    </tr>\n",
       "    <tr>\n",
       "      <th>1</th>\n",
       "      <td>0</td>\n",
       "      <td>dem rep. totally nails why congress is falling...</td>\n",
       "      <td>huffingtonpost</td>\n",
       "    </tr>\n",
       "  </tbody>\n",
       "</table>\n",
       "</div>"
      ],
      "text/plain": [
       "   is_sarcastic                                           headline  \\\n",
       "0             1  thirtysomething scientists unveil doomsday clo...   \n",
       "1             0  dem rep. totally nails why congress is falling...   \n",
       "\n",
       "           source  \n",
       "0        theonion  \n",
       "1  huffingtonpost  "
      ]
     },
     "execution_count": 10,
     "metadata": {},
     "output_type": "execute_result"
    }
   ],
   "source": [
    "df.head(2)"
   ]
  },
  {
   "cell_type": "code",
   "execution_count": 11,
   "id": "complimentary-celtic",
   "metadata": {
    "colab": {
     "base_uri": "https://localhost:8080/"
    },
    "id": "complimentary-celtic",
    "outputId": "acdb2511-dc22-4418-b62c-31b098661a69"
   },
   "outputs": [
    {
     "data": {
      "text/plain": [
       "array(['theonion', 'huffingtonpost'], dtype=object)"
      ]
     },
     "execution_count": 11,
     "metadata": {},
     "output_type": "execute_result"
    }
   ],
   "source": [
    "df.source.unique()"
   ]
  },
  {
   "cell_type": "code",
   "execution_count": 12,
   "id": "english-novel",
   "metadata": {
    "colab": {
     "base_uri": "https://localhost:8080/",
     "height": 505
    },
    "id": "english-novel",
    "outputId": "c82efb88-ea7a-46b2-a7de-72412c0e30e0"
   },
   "outputs": [
    {
     "data": {
      "text/plain": [
       "Text(0.5, 0, 'Target')"
      ]
     },
     "execution_count": 12,
     "metadata": {},
     "output_type": "execute_result"
    },
    {
     "data": {
      "image/png": "[encoded data removed]",
      "text/plain": [
       "<Figure size 1080x504 with 1 Axes>"
      ]
     },
     "metadata": {
      "needs_background": "light"
     },
     "output_type": "display_data"
    }
   ],
   "source": [
    "target_counts=df['source'].value_counts()\n",
    "plt.figure(figsize = (15,7))\n",
    "sns.barplot(y=target_counts,x=target_counts.index)\n",
    "plt.title(\"Counting the values in Source column\",fontsize = 24)\n",
    "plt.ylabel('Sample')\n",
    "plt.xlabel('Target')"
   ]
  },
  {
   "cell_type": "markdown",
   "id": "opposite-pilot",
   "metadata": {},
   "source": [
    "##### Drawing out all the words from the headline feature "
   ]
  },
  {
   "cell_type": "code",
   "execution_count": 13,
   "id": "martial-accessory",
   "metadata": {
    "colab": {
     "base_uri": "https://localhost:8080/"
    },
    "id": "martial-accessory",
    "outputId": "ef995c85-b203-4e9c-e07e-db59fe55bd39"
   },
   "outputs": [
    {
     "data": {
      "text/plain": [
       "to             9045\n",
       "of             6252\n",
       "the            5281\n",
       "in             4521\n",
       "for            3617\n",
       "               ... \n",
       "etc.?             1\n",
       "18-inch           1\n",
       "finds,            1\n",
       "tavis             1\n",
       "successor's       1\n",
       "Length: 38234, dtype: int64"
      ]
     },
     "execution_count": 13,
     "metadata": {},
     "output_type": "execute_result"
    }
   ],
   "source": [
    "all_words = df['headline'].str.split(expand=True).unstack().value_counts()\n",
    "all=pd.DataFrame(all_words).reset_index()\n",
    "all_words"
   ]
  },
  {
   "cell_type": "markdown",
   "id": "according-stage",
   "metadata": {},
   "source": [
    "##### Frequently occuring words in headlines"
   ]
  },
  {
   "cell_type": "code",
   "execution_count": 14,
   "id": "material-spectrum",
   "metadata": {
    "colab": {
     "base_uri": "https://localhost:8080/",
     "height": 577
    },
    "id": "material-spectrum",
    "outputId": "29e999be-d650-42d0-d545-00071f4d0095"
   },
   "outputs": [
    {
     "data": {
      "image/png": "[encoded data removed]",
      "text/plain": [
       "<Figure size 1224x792 with 1 Axes>"
      ]
     },
     "metadata": {},
     "output_type": "display_data"
    }
   ],
   "source": [
    "sns.set(rc={'figure.figsize':(17,11)})\n",
    "sns.barplot(x=all['index'][0:50], y=all[0][0:50], data=all,palette=\"ch:.25\",errcolor='.26')\n",
    "plt.xlabel('Words')  # Add an x-label to the axes.\n",
    "plt.ylabel('Count')  # Add a y-label to the axes.\n",
    "plt.title(\"Frequent Occuring words in Headlines\") \n",
    "plt.xticks(rotation=80);"
   ]
  },
  {
   "cell_type": "code",
   "execution_count": 15,
   "id": "micro-christmas",
   "metadata": {
    "colab": {
     "base_uri": "https://localhost:8080/"
    },
    "id": "micro-christmas",
    "outputId": "704d23f0-2f9b-43ee-8cca-f69bfeb3d2e1"
   },
   "outputs": [
    {
     "data": {
      "text/plain": [
       "to             9045\n",
       "of             6252\n",
       "the            5281\n",
       "in             4521\n",
       "for            3617\n",
       "               ... \n",
       "etc.?             1\n",
       "18-inch           1\n",
       "finds,            1\n",
       "tavis             1\n",
       "successor's       1\n",
       "Length: 38234, dtype: int64"
      ]
     },
     "execution_count": 15,
     "metadata": {},
     "output_type": "execute_result"
    }
   ],
   "source": [
    "all_words = df['headline'].str.split(expand=True).unstack().value_counts()\n",
    "all_words"
   ]
  },
  {
   "cell_type": "code",
   "execution_count": 16,
   "id": "designing-overhead",
   "metadata": {
    "colab": {
     "base_uri": "https://localhost:8080/",
     "height": 422
    },
    "id": "designing-overhead",
    "outputId": "9741e113-1b5e-44b2-eab5-fc3d9c98e1c2"
   },
   "outputs": [
    {
     "data": {
      "text/html": [
       "<div>\n",
       "<style scoped>\n",
       "    .dataframe tbody tr th:only-of-type {\n",
       "        vertical-align: middle;\n",
       "    }\n",
       "\n",
       "    .dataframe tbody tr th {\n",
       "        vertical-align: top;\n",
       "    }\n",
       "\n",
       "    .dataframe thead th {\n",
       "        text-align: right;\n",
       "    }\n",
       "</style>\n",
       "<table border=\"1\" class=\"dataframe\">\n",
       "  <thead>\n",
       "    <tr style=\"text-align: right;\">\n",
       "      <th></th>\n",
       "      <th>index</th>\n",
       "      <th>0</th>\n",
       "    </tr>\n",
       "  </thead>\n",
       "  <tbody>\n",
       "    <tr>\n",
       "      <th>0</th>\n",
       "      <td>the</td>\n",
       "      <td>4593</td>\n",
       "    </tr>\n",
       "    <tr>\n",
       "      <th>1</th>\n",
       "      <td>to</td>\n",
       "      <td>4065</td>\n",
       "    </tr>\n",
       "    <tr>\n",
       "      <th>2</th>\n",
       "      <td>of</td>\n",
       "      <td>2462</td>\n",
       "    </tr>\n",
       "    <tr>\n",
       "      <th>3</th>\n",
       "      <td>a</td>\n",
       "      <td>2443</td>\n",
       "    </tr>\n",
       "    <tr>\n",
       "      <th>4</th>\n",
       "      <td>in</td>\n",
       "      <td>2417</td>\n",
       "    </tr>\n",
       "    <tr>\n",
       "      <th>...</th>\n",
       "      <td>...</td>\n",
       "      <td>...</td>\n",
       "    </tr>\n",
       "    <tr>\n",
       "      <th>25016</th>\n",
       "      <td>aca</td>\n",
       "      <td>1</td>\n",
       "    </tr>\n",
       "    <tr>\n",
       "      <th>25017</th>\n",
       "      <td>have?</td>\n",
       "      <td>1</td>\n",
       "    </tr>\n",
       "    <tr>\n",
       "      <th>25018</th>\n",
       "      <td>campaign's</td>\n",
       "      <td>1</td>\n",
       "    </tr>\n",
       "    <tr>\n",
       "      <th>25019</th>\n",
       "      <td>operators</td>\n",
       "      <td>1</td>\n",
       "    </tr>\n",
       "    <tr>\n",
       "      <th>25020</th>\n",
       "      <td>profiting</td>\n",
       "      <td>1</td>\n",
       "    </tr>\n",
       "  </tbody>\n",
       "</table>\n",
       "<p>25021 rows × 2 columns</p>\n",
       "</div>"
      ],
      "text/plain": [
       "            index     0\n",
       "0             the  4593\n",
       "1              to  4065\n",
       "2              of  2462\n",
       "3               a  2443\n",
       "4              in  2417\n",
       "...           ...   ...\n",
       "25016         aca     1\n",
       "25017       have?     1\n",
       "25018  campaign's     1\n",
       "25019   operators     1\n",
       "25020   profiting     1\n",
       "\n",
       "[25021 rows x 2 columns]"
      ]
     },
     "execution_count": 16,
     "metadata": {},
     "output_type": "execute_result"
    }
   ],
   "source": [
    "non_sarc=pd.DataFrame(df[df['is_sarcastic']==0]['headline'].str.split(expand=True).unstack().value_counts()).reset_index()\n",
    "non_sarc"
   ]
  },
  {
   "cell_type": "code",
   "execution_count": 17,
   "id": "negative-calcium",
   "metadata": {
    "colab": {
     "base_uri": "https://localhost:8080/",
     "height": 422
    },
    "id": "negative-calcium",
    "outputId": "31d95622-1c8e-4c3a-ea99-f925edbbe4e0"
   },
   "outputs": [
    {
     "data": {
      "text/html": [
       "<div>\n",
       "<style scoped>\n",
       "    .dataframe tbody tr th:only-of-type {\n",
       "        vertical-align: middle;\n",
       "    }\n",
       "\n",
       "    .dataframe tbody tr th {\n",
       "        vertical-align: top;\n",
       "    }\n",
       "\n",
       "    .dataframe thead th {\n",
       "        text-align: right;\n",
       "    }\n",
       "</style>\n",
       "<table border=\"1\" class=\"dataframe\">\n",
       "  <thead>\n",
       "    <tr style=\"text-align: right;\">\n",
       "      <th></th>\n",
       "      <th>index</th>\n",
       "      <th>0</th>\n",
       "    </tr>\n",
       "  </thead>\n",
       "  <tbody>\n",
       "    <tr>\n",
       "      <th>0</th>\n",
       "      <td>to</td>\n",
       "      <td>4980</td>\n",
       "    </tr>\n",
       "    <tr>\n",
       "      <th>1</th>\n",
       "      <td>of</td>\n",
       "      <td>3790</td>\n",
       "    </tr>\n",
       "    <tr>\n",
       "      <th>2</th>\n",
       "      <td>in</td>\n",
       "      <td>2104</td>\n",
       "    </tr>\n",
       "    <tr>\n",
       "      <th>3</th>\n",
       "      <td>for</td>\n",
       "      <td>1736</td>\n",
       "    </tr>\n",
       "    <tr>\n",
       "      <th>4</th>\n",
       "      <td>on</td>\n",
       "      <td>1286</td>\n",
       "    </tr>\n",
       "    <tr>\n",
       "      <th>...</th>\n",
       "      <td>...</td>\n",
       "      <td>...</td>\n",
       "    </tr>\n",
       "    <tr>\n",
       "      <th>23923</th>\n",
       "      <td>aftermath</td>\n",
       "      <td>1</td>\n",
       "    </tr>\n",
       "    <tr>\n",
       "      <th>23924</th>\n",
       "      <td>cosmic</td>\n",
       "      <td>1</td>\n",
       "    </tr>\n",
       "    <tr>\n",
       "      <th>23925</th>\n",
       "      <td>fronts</td>\n",
       "      <td>1</td>\n",
       "    </tr>\n",
       "    <tr>\n",
       "      <th>23926</th>\n",
       "      <td>relaunches</td>\n",
       "      <td>1</td>\n",
       "    </tr>\n",
       "    <tr>\n",
       "      <th>23927</th>\n",
       "      <td>condescendingly</td>\n",
       "      <td>1</td>\n",
       "    </tr>\n",
       "  </tbody>\n",
       "</table>\n",
       "<p>23928 rows × 2 columns</p>\n",
       "</div>"
      ],
      "text/plain": [
       "                 index     0\n",
       "0                   to  4980\n",
       "1                   of  3790\n",
       "2                   in  2104\n",
       "3                  for  1736\n",
       "4                   on  1286\n",
       "...                ...   ...\n",
       "23923        aftermath     1\n",
       "23924           cosmic     1\n",
       "23925           fronts     1\n",
       "23926       relaunches     1\n",
       "23927  condescendingly     1\n",
       "\n",
       "[23928 rows x 2 columns]"
      ]
     },
     "execution_count": 17,
     "metadata": {},
     "output_type": "execute_result"
    }
   ],
   "source": [
    "sarc=pd.DataFrame(df[df['is_sarcastic']==1]['headline'].str.split(expand=True).unstack().value_counts()).reset_index()\n",
    "sarc"
   ]
  },
  {
   "cell_type": "markdown",
   "id": "grave-nigeria",
   "metadata": {},
   "source": [
    "##### Frequently occuring non-sarcastic from headline"
   ]
  },
  {
   "cell_type": "code",
   "execution_count": 18,
   "id": "quick-brush",
   "metadata": {
    "colab": {
     "base_uri": "https://localhost:8080/",
     "height": 579
    },
    "id": "quick-brush",
    "outputId": "c1fccca8-38c9-439a-d737-ae42bd1c157d"
   },
   "outputs": [
    {
     "data": {
      "image/png": "[encoded data removed]",
      "text/plain": [
       "<Figure size 1224x792 with 1 Axes>"
      ]
     },
     "metadata": {},
     "output_type": "display_data"
    }
   ],
   "source": [
    "sns.set(rc={'figure.figsize':(17,11)})\n",
    "sns.barplot(x=non_sarc['index'][0:50], y=non_sarc[0][0:50], data=non_sarc,palette=\"ch:.25\")\n",
    "plt.xlabel('Words')  # Add an x-label to the axes.\n",
    "plt.ylabel('Count')  # Add a y-label to the axes.\n",
    "plt.title(\"Frequent Occuring non-sarcastic words in Headlines\") \n",
    "plt.xticks(rotation=80);"
   ]
  },
  {
   "cell_type": "markdown",
   "id": "solved-reservation",
   "metadata": {},
   "source": [
    "##### Frequently occuring sarcastic from headline"
   ]
  },
  {
   "cell_type": "code",
   "execution_count": 19,
   "id": "patient-lawrence",
   "metadata": {
    "colab": {
     "base_uri": "https://localhost:8080/",
     "height": 650
    },
    "id": "patient-lawrence",
    "outputId": "1061c8fd-cff7-418f-a617-1e965e77b42a"
   },
   "outputs": [
    {
     "data": {
      "text/plain": [
       "(array([ 0,  1,  2,  3,  4,  5,  6,  7,  8,  9, 10, 11, 12, 13, 14, 15, 16,\n",
       "        17, 18, 19, 20, 21, 22, 23, 24, 25, 26, 27, 28, 29, 30, 31, 32, 33,\n",
       "        34, 35, 36, 37, 38, 39, 40, 41, 42, 43, 44, 45, 46, 47, 48, 49]),\n",
       " [Text(0, 0, 'to'),\n",
       "  Text(1, 0, 'of'),\n",
       "  Text(2, 0, 'in'),\n",
       "  Text(3, 0, 'for'),\n",
       "  Text(4, 0, 'on'),\n",
       "  Text(5, 0, 'man'),\n",
       "  Text(6, 0, 'with'),\n",
       "  Text(7, 0, 'new'),\n",
       "  Text(8, 0, 'by'),\n",
       "  Text(9, 0, 'the'),\n",
       "  Text(10, 0, 'at'),\n",
       "  Text(11, 0, 'from'),\n",
       "  Text(12, 0, 'a'),\n",
       "  Text(13, 0, 'out'),\n",
       "  Text(14, 0, 'after'),\n",
       "  Text(15, 0, 'up'),\n",
       "  Text(16, 0, 'he'),\n",
       "  Text(17, 0, 'area'),\n",
       "  Text(18, 0, 'about'),\n",
       "  Text(19, 0, 'as'),\n",
       "  Text(20, 0, 'it'),\n",
       "  Text(21, 0, 'be'),\n",
       "  Text(22, 0, 'just'),\n",
       "  Text(23, 0, 'report:'),\n",
       "  Text(24, 0, 'that'),\n",
       "  Text(25, 0, 'into'),\n",
       "  Text(26, 0, 'not'),\n",
       "  Text(27, 0, 'has'),\n",
       "  Text(28, 0, 'who'),\n",
       "  Text(29, 0, 'woman'),\n",
       "  Text(30, 0, 'all'),\n",
       "  Text(31, 0, 'trump'),\n",
       "  Text(32, 0, 'and'),\n",
       "  Text(33, 0, 'one'),\n",
       "  Text(34, 0, 'more'),\n",
       "  Text(35, 0, 'his'),\n",
       "  Text(36, 0, 'have'),\n",
       "  Text(37, 0, 'time'),\n",
       "  Text(38, 0, 'day'),\n",
       "  Text(39, 0, 'still'),\n",
       "  Text(40, 0, 'now'),\n",
       "  Text(41, 0, 'this'),\n",
       "  Text(42, 0, 'will'),\n",
       "  Text(43, 0, 'off'),\n",
       "  Text(44, 0, 'like'),\n",
       "  Text(45, 0, 'can'),\n",
       "  Text(46, 0, 'you'),\n",
       "  Text(47, 0, 'nation'),\n",
       "  Text(48, 0, 'get'),\n",
       "  Text(49, 0, 'over')])"
      ]
     },
     "execution_count": 19,
     "metadata": {},
     "output_type": "execute_result"
    },
    {
     "data": {
      "image/png": "[encoded data removed]",
      "text/plain": [
       "<Figure size 1224x792 with 1 Axes>"
      ]
     },
     "metadata": {},
     "output_type": "display_data"
    }
   ],
   "source": [
    "sns.set(rc={'figure.figsize':(17,11)})\n",
    "sns.barplot(x=sarc['index'][0:50], y=sarc[0][0:50], data=sarc,palette=\"ch:.25\")\n",
    "plt.xlabel('Words')  # Add an x-label to the axes.\n",
    "plt.ylabel('Count')  # Add a y-label to the axes.\n",
    "plt.title(\"Frequent Occuring sarcastic words in Headlines\") \n",
    "plt.xticks(rotation=80)"
   ]
  },
  {
   "cell_type": "markdown",
   "id": "interested-barcelona",
   "metadata": {
    "id": "interested-barcelona"
   },
   "source": [
    "TFIDF\n"
   ]
  },
  {
   "cell_type": "code",
   "execution_count": 20,
   "id": "incorporate-trouble",
   "metadata": {
    "id": "incorporate-trouble"
   },
   "outputs": [],
   "source": [
    "import nltk\n",
    "from nltk.corpus import wordnet"
   ]
  },
  {
   "cell_type": "markdown",
   "id": "beneficial-morgan",
   "metadata": {},
   "source": [
    "##### word_tokenizing the sarcastic words"
   ]
  },
  {
   "cell_type": "code",
   "execution_count": 21,
   "id": "complimentary-treaty",
   "metadata": {
    "colab": {
     "base_uri": "https://localhost:8080/"
    },
    "id": "complimentary-treaty",
    "outputId": "94ecc889-5a64-4190-93ff-d0480aee1dd4"
   },
   "outputs": [
    {
     "data": {
      "text/plain": [
       "0     [thirtysomething, scientists, unveil, doomsday...\n",
       "3     [inclement, weather, prevents, liar, from, get...\n",
       "4     [mother, comes, pretty, close, to, using, word...\n",
       "7     [richard, branson, 's, global-warming, donatio...\n",
       "8     [shadow, government, getting, too, large, to, ...\n",
       "14    [ford, develops, new, suv, that, runs, purely,...\n",
       "16    [area, boy, enters, jumping-and-touching-tops-...\n",
       "17    [area, man, does, most, of, his, traveling, by...\n",
       "21    [guard, in, video, game, under, strict, orders...\n",
       "25    [secret, service, agent, not, so, secret, abou...\n",
       "Name: headline, dtype: object"
      ]
     },
     "execution_count": 21,
     "metadata": {},
     "output_type": "execute_result"
    }
   ],
   "source": [
    "import nltk\n",
    "sar_tokens = df[df['is_sarcastic'] == 1]['headline'].apply(lambda x: nltk.word_tokenize(x)) \n",
    "sar_tokens[:10]"
   ]
  },
  {
   "cell_type": "markdown",
   "id": "constant-armor",
   "metadata": {},
   "source": [
    "##### word_tokeinizing the non_sarcastic words"
   ]
  },
  {
   "cell_type": "code",
   "execution_count": 22,
   "id": "committed-providence",
   "metadata": {
    "colab": {
     "base_uri": "https://localhost:8080/"
    },
    "id": "committed-providence",
    "outputId": "f984d1e8-6455-4b33-eefa-3ba7a215c8e1"
   },
   "outputs": [
    {
     "data": {
      "text/plain": [
       "1     [dem, rep., totally, nails, why, congress, is,...\n",
       "2     [eat, your, veggies, :, 9, deliciously, differ...\n",
       "5                              [my, white, inheritance]\n",
       "6     [5, ways, to, file, your, taxes, with, less, s...\n",
       "9             [lots, of, parents, know, this, scenario]\n",
       "10    [this, lesbian, is, considered, a, father, in,...\n",
       "11    [amanda, peet, told, her, daughter, sex, is, '...\n",
       "12    [what, to, know, regarding, current, treatment...\n",
       "13    [chris, christie, suggests, hillary, clinton, ...\n",
       "15    [uber, ceo, travis, kalanick, stepping, down, ...\n",
       "Name: headline, dtype: object"
      ]
     },
     "execution_count": 22,
     "metadata": {},
     "output_type": "execute_result"
    }
   ],
   "source": [
    "nonsar_tokens = df[df['is_sarcastic'] == 0]['headline'].apply(lambda x: nltk.word_tokenize(x))\n",
    "nonsar_tokens[:10]"
   ]
  },
  {
   "cell_type": "markdown",
   "id": "criminal-importance",
   "metadata": {},
   "source": [
    "preprocesing both sarcastic word and non sarcastic words by remoing stopword and converting into lower case."
   ]
  },
  {
   "cell_type": "code",
   "execution_count": 23,
   "id": "turned-runner",
   "metadata": {
    "id": "turned-runner"
   },
   "outputs": [],
   "source": [
    "\n",
    "stopwords = nltk.corpus.stopwords.words('english')\n",
    "sarc_lower=[each_word.lower() for each_word in sarc['index']] #lowcase\n",
    "sarc_nostop = [word for word in sarc_lower if word not in stopwords]\n",
    "non_sarc_lower=[each_word.lower() for each_word in non_sarc['index']]\n",
    "non_sarc_nostop = [word for word in non_sarc_lower if word not in stopwords]"
   ]
  },
  {
   "cell_type": "code",
   "execution_count": 24,
   "id": "hidden-mexican",
   "metadata": {
    "colab": {
     "base_uri": "https://localhost:8080/"
    },
    "id": "hidden-mexican",
    "outputId": "d835c88b-3ed2-4932-bd23-135f2681a49a"
   },
   "outputs": [
    {
     "data": {
      "text/plain": [
       "['to', 'of', 'in', 'for', 'on']"
      ]
     },
     "execution_count": 24,
     "metadata": {},
     "output_type": "execute_result"
    }
   ],
   "source": [
    "sarc_lower[:5]"
   ]
  },
  {
   "cell_type": "code",
   "execution_count": 25,
   "id": "sharing-reducing",
   "metadata": {
    "colab": {
     "base_uri": "https://localhost:8080/"
    },
    "id": "sharing-reducing",
    "outputId": "9da89c23-7e2b-4dfa-df24-844890716249"
   },
   "outputs": [
    {
     "data": {
      "text/plain": [
       "['the', 'to', 'of', 'a', 'in']"
      ]
     },
     "execution_count": 25,
     "metadata": {},
     "output_type": "execute_result"
    }
   ],
   "source": [
    "non_sarc_lower[0:5]"
   ]
  },
  {
   "cell_type": "markdown",
   "id": "boxed-cattle",
   "metadata": {
    "id": "boxed-cattle"
   },
   "source": [
    "#### World Cloud "
   ]
  },
  {
   "cell_type": "markdown",
   "id": "worse-decimal",
   "metadata": {
    "id": "gFA34Dp1DhET"
   },
   "source": [
    "from wordcloud import WordCloud, ImageColorGenerator"
   ]
  },
  {
   "cell_type": "markdown",
   "id": "proved-headset",
   "metadata": {
    "colab": {
     "base_uri": "https://localhost:8080/",
     "height": 345
    },
    "id": "KdNZtm46DluT",
    "outputId": "5fda2228-b598-47bd-f5d8-c2357df4475f"
   },
   "source": [
    "plt.figure(figsize = (10,10))\n",
    "wc = WordCloud(width = 2000 , height = 1000 , max_words = 500).generate(' '.join(word for word in sarc_nostop))\n",
    "plt.axis(\"off\")\n",
    "plt.title('Worcloud of sarcastic words')\n",
    "plt.imshow(wc , interpolation = 'bilinear')"
   ]
  },
  {
   "cell_type": "markdown",
   "id": "disturbed-blowing",
   "metadata": {
    "colab": {
     "base_uri": "https://localhost:8080/",
     "height": 345
    },
    "id": "CR7YNQ5NDmE1",
    "outputId": "96e9ee6f-3fee-421d-88ae-c2e920120bdd"
   },
   "source": [
    "plt.figure(figsize = (10,10))\n",
    "wc = WordCloud(width = 2000 , height = 1000 , max_words = 500).generate(' '.join(word for word in non_sarc_nostop))\n",
    "plt.axis(\"off\")\n",
    "plt.title('Worcloud of non-sarcastic words')\n",
    "plt.imshow(wc , interpolation = 'bilinear')"
   ]
  },
  {
   "cell_type": "code",
   "execution_count": null,
   "id": "TOUHYmI1DoGj",
   "metadata": {
    "id": "TOUHYmI1DoGj"
   },
   "outputs": [],
   "source": []
  },
  {
   "cell_type": "markdown",
   "id": "9necpZOyEJF5",
   "metadata": {
    "id": "9necpZOyEJF5"
   },
   "source": [
    "#### Preparing X and y"
   ]
  },
  {
   "cell_type": "markdown",
   "id": "textile-waters",
   "metadata": {},
   "source": [
    "creating parser() function which drop any special character and then removes the stopwords from it and then synset checks for synonymous  words in wordnet dictonary\n"
   ]
  },
  {
   "cell_type": "code",
   "execution_count": 26,
   "id": "dgvmcvD2ELF0",
   "metadata": {
    "colab": {
     "base_uri": "https://localhost:8080/"
    },
    "id": "dgvmcvD2ELF0",
    "outputId": "7cd97156-7f39-47b2-9cbf-715441087f51"
   },
   "outputs": [],
   "source": [
    "#nltk.download('wordnet')\n",
    "import re\n",
    "def parser(x):\n",
    "    x = re.sub('[^a-z\\s]', '', x.lower())  #drop any symbol except a-z\n",
    "    x = [w for w in x.split() if w not in set(stopwords)]\n",
    "    x = [w for w in x if wordnet.synsets(w)]\n",
    "    return ' '.join(x)\n",
    "\n",
    "df['headline'] = df.headline.apply(lambda x: parser(x))\n",
    "X = df['headline']\n",
    "y = df.is_sarcastic"
   ]
  },
  {
   "cell_type": "code",
   "execution_count": 27,
   "id": "JNN0UFDdENao",
   "metadata": {
    "colab": {
     "base_uri": "https://localhost:8080/"
    },
    "id": "JNN0UFDdENao",
    "outputId": "83b5e268-d095-4992-c58e-a789553d8366"
   },
   "outputs": [
    {
     "data": {
      "text/plain": [
       "28619"
      ]
     },
     "execution_count": 27,
     "metadata": {},
     "output_type": "execute_result"
    }
   ],
   "source": [
    "len(X)"
   ]
  },
  {
   "cell_type": "code",
   "execution_count": 28,
   "id": "ITr8cxMwEaRu",
   "metadata": {
    "colab": {
     "base_uri": "https://localhost:8080/"
    },
    "id": "ITr8cxMwEaRu",
    "outputId": "07d3432c-9ddf-438b-d5ea-dd96d402e2df"
   },
   "outputs": [
    {
     "data": {
      "text/plain": [
       "28619"
      ]
     },
     "execution_count": 28,
     "metadata": {},
     "output_type": "execute_result"
    }
   ],
   "source": [
    "len(y)"
   ]
  },
  {
   "cell_type": "markdown",
   "id": "rational-orange",
   "metadata": {},
   "source": [
    "##### Splitting the X and y..."
   ]
  },
  {
   "cell_type": "code",
   "execution_count": 29,
   "id": "n7La5wRgEe1L",
   "metadata": {
    "id": "n7La5wRgEe1L"
   },
   "outputs": [],
   "source": [
    "from sklearn.model_selection import train_test_split\n",
    "X_train,X_test,y_train,y_test = train_test_split(X,y,test_size=0.3,random_state=0)"
   ]
  },
  {
   "cell_type": "code",
   "execution_count": 30,
   "id": "VFVosrsyEkde",
   "metadata": {
    "colab": {
     "base_uri": "https://localhost:8080/"
    },
    "id": "VFVosrsyEkde",
    "outputId": "f528d8cc-ede2-41ff-ead3-4d3d9477020c"
   },
   "outputs": [
    {
     "data": {
      "text/plain": [
       "20033"
      ]
     },
     "execution_count": 30,
     "metadata": {},
     "output_type": "execute_result"
    }
   ],
   "source": [
    "len(X_train)"
   ]
  },
  {
   "cell_type": "code",
   "execution_count": 31,
   "id": "hudcgFReEmX4",
   "metadata": {
    "colab": {
     "base_uri": "https://localhost:8080/"
    },
    "id": "hudcgFReEmX4",
    "outputId": "46ed0f12-98c4-41fc-ff09-bb0b28b28221"
   },
   "outputs": [
    {
     "data": {
      "text/plain": [
       "20033"
      ]
     },
     "execution_count": 31,
     "metadata": {},
     "output_type": "execute_result"
    }
   ],
   "source": [
    "len(y_train)"
   ]
  },
  {
   "cell_type": "code",
   "execution_count": 32,
   "id": "ORgwZre-Eo7h",
   "metadata": {
    "colab": {
     "base_uri": "https://localhost:8080/"
    },
    "id": "ORgwZre-Eo7h",
    "outputId": "0f817f56-46ba-4a5e-cb39-114de93a5979"
   },
   "outputs": [
    {
     "data": {
      "text/plain": [
       "8586"
      ]
     },
     "execution_count": 32,
     "metadata": {},
     "output_type": "execute_result"
    }
   ],
   "source": [
    "len(X_test)"
   ]
  },
  {
   "cell_type": "code",
   "execution_count": 33,
   "id": "5ifThZyXEs6T",
   "metadata": {
    "colab": {
     "base_uri": "https://localhost:8080/"
    },
    "id": "5ifThZyXEs6T",
    "outputId": "979216da-cfa7-420b-ce67-9aec93bf40bb"
   },
   "outputs": [
    {
     "data": {
      "text/plain": [
       "8586"
      ]
     },
     "execution_count": 33,
     "metadata": {},
     "output_type": "execute_result"
    }
   ],
   "source": [
    "len(y_test)"
   ]
  },
  {
   "cell_type": "markdown",
   "id": "frozen-vietnam",
   "metadata": {},
   "source": [
    "Using Tfidf Vecorizer here.."
   ]
  },
  {
   "cell_type": "code",
   "execution_count": 34,
   "id": "yNzfF8ZdEu7S",
   "metadata": {
    "id": "yNzfF8ZdEu7S"
   },
   "outputs": [],
   "source": [
    "from sklearn.feature_extraction.text import TfidfVectorizer"
   ]
  },
  {
   "cell_type": "code",
   "execution_count": 35,
   "id": "4FrcJoDaFBMv",
   "metadata": {
    "id": "4FrcJoDaFBMv"
   },
   "outputs": [],
   "source": [
    "cv=TfidfVectorizer()"
   ]
  },
  {
   "cell_type": "code",
   "execution_count": 36,
   "id": "2eI2GoWVFIZy",
   "metadata": {
    "id": "2eI2GoWVFIZy"
   },
   "outputs": [],
   "source": [
    "X_cv_train = cv.fit_transform(X_train)\n",
    "X_cv_test = cv.transform(X_test)"
   ]
  },
  {
   "cell_type": "markdown",
   "id": "current-above",
   "metadata": {},
   "source": [
    "In below, the output clearly states that all element are saved in vector of numpy in row format"
   ]
  },
  {
   "cell_type": "code",
   "execution_count": 37,
   "id": "o71GMlAiFKqP",
   "metadata": {
    "colab": {
     "base_uri": "https://localhost:8080/"
    },
    "id": "o71GMlAiFKqP",
    "outputId": "c7e31701-5a07-47ae-9cfc-10523e10fc43"
   },
   "outputs": [
    {
     "data": {
      "text/plain": [
       "<20033x18083 sparse matrix of type '<class 'numpy.float64'>'\n",
       "\twith 127009 stored elements in Compressed Sparse Row format>"
      ]
     },
     "execution_count": 37,
     "metadata": {},
     "output_type": "execute_result"
    }
   ],
   "source": [
    "X_cv_train"
   ]
  },
  {
   "cell_type": "code",
   "execution_count": 38,
   "id": "SyGpxW4NGM3N",
   "metadata": {
    "colab": {
     "base_uri": "https://localhost:8080/"
    },
    "id": "SyGpxW4NGM3N",
    "outputId": "231b2f83-bb65-43ee-9b4e-f41b2b5308d6"
   },
   "outputs": [
    {
     "data": {
      "text/plain": [
       "<20033x18083 sparse matrix of type '<class 'numpy.float64'>'\n",
       "\twith 127009 stored elements in Compressed Sparse Row format>"
      ]
     },
     "execution_count": 38,
     "metadata": {},
     "output_type": "execute_result"
    }
   ],
   "source": [
    "X_cv_train"
   ]
  },
  {
   "cell_type": "markdown",
   "id": "painful-biodiversity",
   "metadata": {},
   "source": [
    "### Finding the best model using GridSearchCV"
   ]
  },
  {
   "cell_type": "code",
   "execution_count": 39,
   "id": "oDlT6Ly7F526",
   "metadata": {
    "colab": {
     "base_uri": "https://localhost:8080/"
    },
    "id": "oDlT6Ly7F526",
    "outputId": "f32ed099-4cb3-4d14-d91b-fd550a795ffa"
   },
   "outputs": [],
   "source": [
    "from sklearn.model_selection import ShuffleSplit\n",
    "from sklearn.model_selection import cross_val_score\n",
    "cv = ShuffleSplit(n_splits=5, test_size=0.2, random_state=0)\n"
   ]
  },
  {
   "cell_type": "code",
   "execution_count": null,
   "id": "wLM9GmcPFM7Q",
   "metadata": {
    "colab": {
     "base_uri": "https://localhost:8080/",
     "height": 413
    },
    "id": "wLM9GmcPFM7Q",
    "outputId": "00fd3fd2-0159-45dc-cd87-40afa372b4b6"
   },
   "outputs": [],
   "source": [
    "\n",
    "from sklearn.model_selection import GridSearchCV\n",
    "from sklearn.linear_model import LinearRegression\n",
    "from sklearn.linear_model import Lasso\n",
    "from sklearn.tree import DecisionTreeClassifier\n",
    "from sklearn.linear_model import LogisticRegression\n",
    "from sklearn import svm \n",
    "from sklearn.ensemble import RandomForestClassifier\n",
    "\n",
    "def find_best_model_using_gridsearchcv(X,y):\n",
    "    algos = {\n",
    "        'DecisionTreeClassifier' : {\n",
    "            'model':  DecisionTreeClassifier(),\n",
    "            'params': {\n",
    "                \"criterion\":['gini'],\n",
    "                 \"max_depth\":[4],\n",
    "                  \"random_state\":[1]\n",
    "            }\n",
    "        },\n",
    "        'LogisticRegression': {\n",
    "            'model': LogisticRegression(),\n",
    "            'params': {\n",
    "                 \"C\":[1.0]\n",
    "                \n",
    "            }\n",
    "        },\n",
    "        'svm': {\n",
    "            'model': svm.SVC(),\n",
    "            'params': {\n",
    "                'C': [0.1, 1, 10, 100], \n",
    "              'gamma': [1, 0.1, 0.01, 0.001, 0.0001],\n",
    "              'kernel': [\"linear\", \"poly\", \"rbf\", \"sigmoid\"]\n",
    "            }\n",
    "        },\n",
    "        'RandomForestClassifier': {\n",
    "            'model': RandomForestClassifier(),\n",
    "            'params': {\n",
    "                 \"criterion\":['gini'],\n",
    "                  \"n_estimators\":[12], \n",
    "                  \"random_state\":[42]\n",
    "                \n",
    "            }\n",
    "        \n",
    "    }\n",
    "    }\n",
    "    \n",
    "    scores = []\n",
    "\n",
    "    cv = ShuffleSplit(n_splits=5, test_size=0.2, random_state=0)\n",
    "    for algo_name, config in algos.items():\n",
    "        gs =  GridSearchCV(config['model'], config['params'], cv=cv, return_train_score=False)\n",
    "        gs.fit(X_cv_train,y_train)\n",
    "        scores.append({\n",
    "            'model': algo_name,\n",
    "            'best_score': gs.best_score_,\n",
    "            'best_params': gs.best_params_\n",
    "        })\n",
    "\n",
    "    return pd.DataFrame(scores,columns=['model','best_score','best_params'])\n",
    "\n",
    "find_best_model_using_gridsearchcv(X,y)"
   ]
  },
  {
   "cell_type": "code",
   "execution_count": null,
   "id": "JJW1CGK7Ftaj",
   "metadata": {
    "id": "JJW1CGK7Ftaj"
   },
   "outputs": [],
   "source": [
    "from sklearn import svm "
   ]
  },
  {
   "cell_type": "code",
   "execution_count": null,
   "id": "AUfrhjV1LhKo",
   "metadata": {
    "id": "AUfrhjV1LhKo"
   },
   "outputs": [],
   "source": [
    "model=svm.SVC(C=2.0)\n"
   ]
  },
  {
   "cell_type": "code",
   "execution_count": null,
   "id": "Y38QYUFzLjqf",
   "metadata": {
    "colab": {
     "base_uri": "https://localhost:8080/"
    },
    "id": "Y38QYUFzLjqf",
    "outputId": "70f22552-d620-4466-b7f2-cc500934e741"
   },
   "outputs": [],
   "source": [
    "model.fit(X_cv_train,y_train)"
   ]
  },
  {
   "cell_type": "code",
   "execution_count": null,
   "id": "z1KAN3FBLzpL",
   "metadata": {
    "colab": {
     "base_uri": "https://localhost:8080/"
    },
    "id": "z1KAN3FBLzpL",
    "outputId": "7367022b-f270-4002-e6da-87219c006130"
   },
   "outputs": [],
   "source": [
    "model.score(X_cv_test,y_test)"
   ]
  },
  {
   "cell_type": "code",
   "execution_count": null,
   "id": "vBfGYffjMwCU",
   "metadata": {
    "id": "vBfGYffjMwCU"
   },
   "outputs": [],
   "source": [
    "model.predict(x_cv_)"
   ]
  }
 ],
 "metadata": {
  "colab": {
   "collapsed_sections": [],
   "name": "Sarcasm.ipynb",
   "provenance": []
  },
  "kernelspec": {
   "display_name": "Python 3",
   "language": "python",
   "name": "python3"
  },
  "language_info": {
   "codemirror_mode": {
    "name": "ipython",
    "version": 3
   },
   "file_extension": ".py",
   "mimetype": "text/x-python",
   "name": "python",
   "nbconvert_exporter": "python",
   "pygments_lexer": "ipython3",
   "version": "3.9.1"
  }
 },
 "nbformat": 4,
 "nbformat_minor": 5
}
